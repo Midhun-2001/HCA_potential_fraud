{
 "cells": [
  {
   "cell_type": "code",
   "execution_count": null,
   "metadata": {},
   "outputs": [
    {
     "ename": "",
     "evalue": "",
     "output_type": "error",
     "traceback": [
      "\u001b[1;31mRunning cells with '/bin/python3' requires the ipykernel package.\n",
      "\u001b[1;31mRun the following command to install 'ipykernel' into the Python environment. \n",
      "\u001b[1;31mCommand: '/bin/python3 -m pip install ipykernel -U --user --force-reinstall'"
     ]
    }
   ],
   "source": [
    "import pandas as pd\n",
    "\n",
    "# Load your dataset (replace 'your_dataset.csv' with your actual dataset file)\n",
    "data = pd.read_csv(\"Center_for_Medicare___Medicaid_Services__CMS____Medicare_Claims_data.csv\")\n",
    "\n",
    "# Define a threshold for denial rate\n",
    "denial_threshold = 4000  # Adjust this threshold as needed\n",
    "\n",
    "# Create 'Denial_Status' column based on denial rate\n",
    "data['Denial_Status'] = data['Data_Value_Alt'].apply(lambda x: 1 if x > denial_threshold else 0)\n",
    "\n",
    "# Save the modified dataset with the new 'Denial_Status' column\n",
    "data.to_csv(\"modified_dataset.csv\", index=False)\n"
   ]
  },
  {
   "cell_type": "code",
   "execution_count": null,
   "metadata": {},
   "outputs": [],
   "source": []
  }
 ],
 "metadata": {
  "kernelspec": {
   "display_name": "Python 3",
   "language": "python",
   "name": "python3"
  },
  "language_info": {
   "name": "python",
   "version": "3.10.12"
  },
  "orig_nbformat": 4
 },
 "nbformat": 4,
 "nbformat_minor": 2
}
